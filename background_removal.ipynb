{
  "nbformat": 4,
  "nbformat_minor": 0,
  "metadata": {
    "colab": {
      "name": "background_removal.ipynb",
      "provenance": [],
      "authorship_tag": "ABX9TyOyrfaAdh5aUFc+LtzXxtr8",
      "include_colab_link": true
    },
    "kernelspec": {
      "name": "python3",
      "display_name": "Python 3"
    }
  },
  "cells": [
    {
      "cell_type": "markdown",
      "metadata": {
        "id": "view-in-github",
        "colab_type": "text"
      },
      "source": [
        "<a href=\"https://colab.research.google.com/github/deb-kit2/denoise_images/blob/main/background_removal.ipynb\" target=\"_parent\"><img src=\"https://colab.research.google.com/assets/colab-badge.svg\" alt=\"Open In Colab\"/></a>"
      ]
    },
    {
      "cell_type": "code",
      "metadata": {
        "id": "dh7VOq7p20oF"
      },
      "source": [
        "import numpy as np\n",
        "from scipy import signal\n",
        "from PIL import Image"
      ],
      "execution_count": 1,
      "outputs": []
    },
    {
      "cell_type": "code",
      "metadata": {
        "id": "bd2doAMF3Mot"
      },
      "source": [
        "def load_image(path):\n",
        "    return np.asarray(Image.open(path))/255.0\n",
        "\n",
        "def save(path, img):\n",
        "    tmp = np.asarray(img*255.0, dtype=np.uint8)\n",
        "    Image.fromarray(tmp).save(path)"
      ],
      "execution_count": 2,
      "outputs": []
    },
    {
      "cell_type": "code",
      "metadata": {
        "id": "1-ERkpMj4wjo"
      },
      "source": [
        "def denoise(inp):\n",
        "    # estimate 'background' color by a median filter\n",
        "    bg = signal.medfilt2d(inp, 11)\n",
        "    save('background.png', bg)\n",
        "\n",
        "    # compute 'foreground' mask as anything that is significantly darker than\n",
        "    # the background\n",
        "    mask = inp < bg - 0.1\n",
        "    save('foreground_mask.png', mask)\n",
        "\n",
        "    # return the input value for all pixels in the mask or pure white otherwise\n",
        "    return np.where(mask, inp, 1.0)"
      ],
      "execution_count": 3,
      "outputs": []
    },
    {
      "cell_type": "code",
      "metadata": {
        "id": "74IphN2y-pVO"
      },
      "source": [
        "from skimage.io import imread\n",
        "x = imread(\"/content/temp.jpg\", as_gray = True)"
      ],
      "execution_count": 7,
      "outputs": []
    },
    {
      "cell_type": "code",
      "metadata": {
        "colab": {
          "base_uri": "https://localhost:8080/"
        },
        "id": "YID39tvMAMgB",
        "outputId": "26f7fde3-d1cc-4fe6-9693-0bfd206f9ad3"
      },
      "source": [
        "x.shape"
      ],
      "execution_count": 8,
      "outputs": [
        {
          "output_type": "execute_result",
          "data": {
            "text/plain": [
              "(2435, 1662)"
            ]
          },
          "metadata": {
            "tags": []
          },
          "execution_count": 8
        }
      ]
    },
    {
      "cell_type": "code",
      "metadata": {
        "id": "HeI76s0xAPTK"
      },
      "source": [
        "out = denoise(x)\n",
        "save(out_path, out)"
      ],
      "execution_count": 9,
      "outputs": []
    }
  ]
}