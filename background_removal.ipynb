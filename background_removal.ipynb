{
  "nbformat": 4,
  "nbformat_minor": 0,
  "metadata": {
    "colab": {
      "name": "background_removal.ipynb",
      "provenance": [],
      "authorship_tag": "ABX9TyN0CXHEtFCpzemnPBu2SJG3",
      "include_colab_link": true
    },
    "kernelspec": {
      "name": "python3",
      "display_name": "Python 3"
    }
  },
  "cells": [
    {
      "cell_type": "markdown",
      "metadata": {
        "id": "view-in-github",
        "colab_type": "text"
      },
      "source": [
        "<a href=\"https://colab.research.google.com/github/deb-kit2/denoise_images/blob/main/background_removal.ipynb\" target=\"_parent\"><img src=\"https://colab.research.google.com/assets/colab-badge.svg\" alt=\"Open In Colab\"/></a>"
      ]
    },
    {
      "cell_type": "markdown",
      "metadata": {
        "id": "eKJo0s7bCL-V"
      },
      "source": [
        "##Test on a single image, worked great"
      ]
    },
    {
      "cell_type": "code",
      "metadata": {
        "id": "dh7VOq7p20oF"
      },
      "source": [
        "import numpy as np\n",
        "from scipy import signal\n",
        "from PIL import Image"
      ],
      "execution_count": 1,
      "outputs": []
    },
    {
      "cell_type": "code",
      "metadata": {
        "id": "bd2doAMF3Mot"
      },
      "source": [
        "def load_image(path):\n",
        "    return np.asarray(Image.open(path))/255.0\n",
        "\n",
        "def save(path, img):\n",
        "    tmp = np.asarray(img*255.0, dtype=np.uint8)\n",
        "    Image.fromarray(tmp).save(path)"
      ],
      "execution_count": 2,
      "outputs": []
    },
    {
      "cell_type": "code",
      "metadata": {
        "id": "1-ERkpMj4wjo"
      },
      "source": [
        "def denoise(inp):\n",
        "    # estimate 'background' color by a median filter\n",
        "    bg = signal.medfilt2d(inp, 11)\n",
        "    save('background.png', bg)\n",
        "\n",
        "    # compute 'foreground' mask as anything that is significantly darker than\n",
        "    # the background\n",
        "    mask = inp < bg - 0.1\n",
        "    save('foreground_mask.png', mask)\n",
        "\n",
        "    # return the input value for all pixels in the mask or pure white otherwise\n",
        "    return np.where(mask, inp, 1.0)"
      ],
      "execution_count": 3,
      "outputs": []
    },
    {
      "cell_type": "code",
      "metadata": {
        "id": "74IphN2y-pVO"
      },
      "source": [
        "from skimage.io import imread\n",
        "x = imread(\"/content/temp.jpg\", as_gray = True)"
      ],
      "execution_count": 7,
      "outputs": []
    },
    {
      "cell_type": "code",
      "metadata": {
        "colab": {
          "base_uri": "https://localhost:8080/"
        },
        "id": "YID39tvMAMgB",
        "outputId": "26f7fde3-d1cc-4fe6-9693-0bfd206f9ad3"
      },
      "source": [
        "x.shape"
      ],
      "execution_count": 8,
      "outputs": [
        {
          "output_type": "execute_result",
          "data": {
            "text/plain": [
              "(2435, 1662)"
            ]
          },
          "metadata": {
            "tags": []
          },
          "execution_count": 8
        }
      ]
    },
    {
      "cell_type": "code",
      "metadata": {
        "id": "HeI76s0xAPTK"
      },
      "source": [
        "out = denoise(x)\n",
        "save(out_path, out)"
      ],
      "execution_count": 9,
      "outputs": []
    },
    {
      "cell_type": "markdown",
      "metadata": {
        "id": "1nnMbLdBCQCy"
      },
      "source": [
        "#Now let's code"
      ]
    },
    {
      "cell_type": "code",
      "metadata": {
        "colab": {
          "base_uri": "https://localhost:8080/",
          "height": 34
        },
        "id": "NlT3zXjJCPfK",
        "outputId": "1ee45f26-8ad3-4ac9-89d5-71929a1a9632"
      },
      "source": [
        "from google.colab import drive, output\n",
        "drive.mount(\"/content/drive\")\n",
        "import os\n",
        "os.chdir(\"/content/drive/My Drive/Colab Notebooks/denoise/testing\")\n",
        "\n",
        "output.eval_js('new Audio(\"https://ssl.gstatic.com/dictionary/static/sounds/20180430/complete--_us_1.mp3\").play()')"
      ],
      "execution_count": 1,
      "outputs": [
        {
          "output_type": "stream",
          "text": [
            "Mounted at /content/drive\n"
          ],
          "name": "stdout"
        }
      ]
    },
    {
      "cell_type": "code",
      "metadata": {
        "id": "lF92ftMKCjGn"
      },
      "source": [
        "from skimage.io import imread\n",
        "import numpy as np\n",
        "from scipy import signal\n",
        "from PIL import Image"
      ],
      "execution_count": 2,
      "outputs": []
    },
    {
      "cell_type": "markdown",
      "metadata": {
        "id": "Wd-UWG_zD32i"
      },
      "source": [
        "###helpers"
      ]
    },
    {
      "cell_type": "code",
      "metadata": {
        "id": "zmwHuD2zCqxr"
      },
      "source": [
        "def save(path, img):\n",
        "    tmp = np.asarray(img*255.0, dtype=np.uint8)\n",
        "    Image.fromarray(tmp).save(path)\n",
        "\n",
        "def denoise(inp):\n",
        "    bg = signal.medfilt2d(inp, 11)\n",
        "    #save('background.png', bg)\n",
        "\n",
        "    mask = inp < bg - 0.1\n",
        "    #save('foreground_mask.png', mask)\n",
        "\n",
        "    return np.where(mask, inp, 1.0)"
      ],
      "execution_count": 3,
      "outputs": []
    },
    {
      "cell_type": "markdown",
      "metadata": {
        "id": "uVhHW3SHD6aG"
      },
      "source": [
        "###loading"
      ]
    },
    {
      "cell_type": "code",
      "metadata": {
        "id": "PlXz2nWhCwXz"
      },
      "source": [
        "path = \"/content/drive/My Drive/Colab Notebooks/denoise/testing/complete_file/\"\n",
        "the_files = os.listdir(path)"
      ],
      "execution_count": 6,
      "outputs": []
    },
    {
      "cell_type": "code",
      "metadata": {
        "colab": {
          "base_uri": "https://localhost:8080/"
        },
        "id": "N3rd9Z5lD1qf",
        "outputId": "e4a91d85-3668-4617-9318-3c008e5f7f10"
      },
      "source": [
        "from tqdm import tqdm\n",
        "\n",
        "pages = []\n",
        "\n",
        "for f in tqdm(the_files):\n",
        "    t = imread(path + f, as_gray = True)\n",
        "    t = denoise(t)\n",
        "    pages.append(t)"
      ],
      "execution_count": 8,
      "outputs": [
        {
          "output_type": "stream",
          "text": [
            "100%|██████████| 27/27 [01:43<00:00,  3.82s/it]\n"
          ],
          "name": "stderr"
        }
      ]
    },
    {
      "cell_type": "code",
      "metadata": {
        "colab": {
          "base_uri": "https://localhost:8080/"
        },
        "id": "O3Xs2e3aH7xA",
        "outputId": "4d7d5392-09ef-46ed-afe6-54bcf1dcb6a7"
      },
      "source": [
        "page_count = len(pages)\n",
        "save_path = \"/content/drive/My Drive/Colab Notebooks/denoise/testing/complete_file_result/\"\n",
        "\n",
        "for i in tqdm(range(page_count)):\n",
        "    save(save_path + str(i+1) + \".jpg\", pages[i])"
      ],
      "execution_count": 13,
      "outputs": [
        {
          "output_type": "stream",
          "text": [
            "100%|██████████| 27/27 [00:02<00:00, 12.85it/s]\n"
          ],
          "name": "stderr"
        }
      ]
    }
  ]
}