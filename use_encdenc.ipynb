{
  "nbformat": 4,
  "nbformat_minor": 0,
  "metadata": {
    "colab": {
      "name": "use_encdenc.ipynb",
      "provenance": [],
      "toc_visible": true,
      "authorship_tag": "ABX9TyMc0jeLEGs0Siaco7d4jQPi",
      "include_colab_link": true
    },
    "kernelspec": {
      "name": "python3",
      "display_name": "Python 3"
    }
  },
  "cells": [
    {
      "cell_type": "markdown",
      "metadata": {
        "id": "view-in-github",
        "colab_type": "text"
      },
      "source": [
        "<a href=\"https://colab.research.google.com/github/deb-kit2/denoise_images/blob/main/use_encdenc.ipynb\" target=\"_parent\"><img src=\"https://colab.research.google.com/assets/colab-badge.svg\" alt=\"Open In Colab\"/></a>"
      ]
    },
    {
      "cell_type": "markdown",
      "metadata": {
        "id": "ptanZUS-B77w"
      },
      "source": [
        "##loading model and helper"
      ]
    },
    {
      "cell_type": "code",
      "metadata": {
        "id": "fm5bBrThBhQ0"
      },
      "source": [
        "from skimage.io import imread, imshow, imsave\n",
        "from keras.preprocessing.image import load_img, array_to_img, img_to_array"
      ],
      "execution_count": 1,
      "outputs": []
    },
    {
      "cell_type": "code",
      "metadata": {
        "id": "_QG5-s7yCPla"
      },
      "source": [
        "import matplotlib.pyplot as plt\n",
        "\n",
        "def display_image_in_actual_size(im_data):\n",
        "\n",
        "    dpi = 80\n",
        "    height, width, depth = im_data.shape\n",
        "\n",
        "    # What size does the figure need to be in inches to fit the image?\n",
        "    figsize = width / float(dpi), height / float(dpi)\n",
        "\n",
        "    # Create a figure of the right size with one axes that takes up the full figure\n",
        "    fig = plt.figure(figsize=figsize)\n",
        "    ax = fig.add_axes([0, 0, 1, 1])\n",
        "\n",
        "    # Hide spines, ticks, etc.\n",
        "    ax.axis('off')\n",
        "\n",
        "    # Display the image.\n",
        "    ax.imshow(im_data[:,:,0], cmap='gray')\n",
        "\n",
        "    plt.show()"
      ],
      "execution_count": 13,
      "outputs": []
    },
    {
      "cell_type": "code",
      "metadata": {
        "id": "axw1ylkdCCRO"
      },
      "source": [
        "from keras.models import load_model\n",
        "import numpy as np\n",
        "\n",
        "model = load_model(\"check1.h5\")"
      ],
      "execution_count": 6,
      "outputs": []
    },
    {
      "cell_type": "markdown",
      "metadata": {
        "id": "_p3E5fiPEmsf"
      },
      "source": [
        "#load files"
      ]
    },
    {
      "cell_type": "code",
      "metadata": {
        "id": "gwIqaaojBmtl",
        "outputId": "e47eb94d-a3c0-4786-98aa-cf92dea47af1",
        "colab": {
          "base_uri": "https://localhost:8080/"
        }
      },
      "source": [
        "import os\n",
        "from tqdm import tqdm\n",
        "\n",
        "test_names = os.listdir(\"/content/\")\n",
        "test = []\n",
        "\n",
        "for f in tqdm(test_names):\n",
        "    if(f.endswith('.jpg')):\n",
        "        t = load_img(\"/content/\" + f, grayscale = True, target_size = (1000, 688))\n",
        "        t = img_to_array(t).astype('float32')/255.0\n",
        "        test.append(t)\n",
        "\n",
        "test = np.array(test)\n",
        "test.shape"
      ],
      "execution_count": 9,
      "outputs": [
        {
          "output_type": "stream",
          "text": [
            "  0%|          | 0/5 [00:00<?, ?it/s]/usr/local/lib/python3.6/dist-packages/keras_preprocessing/image/utils.py:107: UserWarning: grayscale is deprecated. Please use color_mode = \"grayscale\"\n",
            "  warnings.warn('grayscale is deprecated. Please use '\n",
            "100%|██████████| 5/5 [00:00<00:00, 56.17it/s]\n"
          ],
          "name": "stderr"
        },
        {
          "output_type": "execute_result",
          "data": {
            "text/plain": [
              "(2, 1000, 688, 1)"
            ]
          },
          "metadata": {
            "tags": []
          },
          "execution_count": 9
        }
      ]
    },
    {
      "cell_type": "code",
      "metadata": {
        "id": "-0dB3fN9B6Si"
      },
      "source": [
        "result = model.predict(test)"
      ],
      "execution_count": 10,
      "outputs": []
    },
    {
      "cell_type": "code",
      "metadata": {
        "id": "is0Bfa6wD03Y",
        "outputId": "f7608033-59d2-47d7-b5f5-71aa81e7c549",
        "colab": {
          "base_uri": "https://localhost:8080/"
        }
      },
      "source": [
        "result.shape"
      ],
      "execution_count": 11,
      "outputs": [
        {
          "output_type": "execute_result",
          "data": {
            "text/plain": [
              "(2, 1000, 688, 1)"
            ]
          },
          "metadata": {
            "tags": []
          },
          "execution_count": 11
        }
      ]
    },
    {
      "cell_type": "code",
      "metadata": {
        "id": "h_duvWviD2Ww"
      },
      "source": [
        "display_image_in_actual_size(result[0])"
      ],
      "execution_count": null,
      "outputs": []
    },
    {
      "cell_type": "code",
      "metadata": {
        "id": "PXHb-OJcEId3"
      },
      "source": [
        "display_image_in_actual_size(result[1])"
      ],
      "execution_count": null,
      "outputs": []
    },
    {
      "cell_type": "code",
      "metadata": {
        "id": "KTSO-akUENFw",
        "outputId": "a7d4c7b0-7b3f-4774-b35c-2c1ff5a1ed80",
        "colab": {
          "base_uri": "https://localhost:8080/"
        }
      },
      "source": [
        "imsave(\"res1.jpg\", result[0][:,:,0])\n",
        "imsave(\"res2.jpg\", result[1][:,:,0])"
      ],
      "execution_count": 16,
      "outputs": [
        {
          "output_type": "stream",
          "text": [
            "WARNING:root:Lossy conversion from float32 to uint8. Range [0, 1]. Convert image to uint8 prior to saving to suppress this warning.\n",
            "WARNING:root:Lossy conversion from float32 to uint8. Range [0, 1]. Convert image to uint8 prior to saving to suppress this warning.\n"
          ],
          "name": "stderr"
        }
      ]
    }
  ]
}