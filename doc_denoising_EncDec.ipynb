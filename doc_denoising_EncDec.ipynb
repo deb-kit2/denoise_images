{
  "nbformat": 4,
  "nbformat_minor": 0,
  "metadata": {
    "colab": {
      "name": "doc_denoising.ipynb",
      "provenance": [],
      "collapsed_sections": [],
      "authorship_tag": "ABX9TyPQTB6xMnpJLCBIso2o7WRd",
      "include_colab_link": true
    },
    "kernelspec": {
      "name": "python3",
      "display_name": "Python 3"
    },
    "accelerator": "GPU"
  },
  "cells": [
    {
      "cell_type": "markdown",
      "metadata": {
        "id": "view-in-github",
        "colab_type": "text"
      },
      "source": [
        "<a href=\"https://colab.research.google.com/github/deb-kit2/denoise_images/blob/main/doc_denoising_EncDec.ipynb\" target=\"_parent\"><img src=\"https://colab.research.google.com/assets/colab-badge.svg\" alt=\"Open In Colab\"/></a>"
      ]
    },
    {
      "cell_type": "code",
      "metadata": {
        "id": "IeUhKua5RaA5",
        "outputId": "4e4bdfa7-8028-40ff-9baf-8bc6deb8041a",
        "colab": {
          "base_uri": "https://localhost:8080/",
          "height": 34
        }
      },
      "source": [
        "from google.colab import drive, output\n",
        "drive.mount(\"/content/drive\")\n",
        "import os\n",
        "os.chdir(\"/content/drive/My Drive/Colab Notebooks/denoise\")\n",
        "\n",
        "output.eval_js('new Audio(\"https://ssl.gstatic.com/dictionary/static/sounds/20180430/complete--_us_1.mp3\").play()')"
      ],
      "execution_count": 1,
      "outputs": [
        {
          "output_type": "stream",
          "text": [
            "Drive already mounted at /content/drive; to attempt to forcibly remount, call drive.mount(\"/content/drive\", force_remount=True).\n"
          ],
          "name": "stdout"
        }
      ]
    },
    {
      "cell_type": "code",
      "metadata": {
        "id": "rmOG3TwuQg4u"
      },
      "source": [
        "from tensorflow.keras.models import Model\n",
        "from tensorflow.keras.layers import Conv2D, MaxPooling2D, UpSampling2D, Dropout, BatchNormalization, Input\n",
        "from tensorflow.keras.callbacks import EarlyStopping\n",
        "from sklearn.model_selection import train_test_split\n",
        "\n",
        "%matplotlib inline"
      ],
      "execution_count": 2,
      "outputs": []
    },
    {
      "cell_type": "markdown",
      "metadata": {
        "id": "YFAo-1oSSVwN"
      },
      "source": [
        "##helpers"
      ]
    },
    {
      "cell_type": "code",
      "metadata": {
        "id": "I3WkaZ4SIqy8"
      },
      "source": [
        "from skimage.io import imread, imshow, imsave\n",
        "from keras.preprocessing.image import load_img, array_to_img, img_to_array"
      ],
      "execution_count": 3,
      "outputs": []
    },
    {
      "cell_type": "code",
      "metadata": {
        "id": "43sYEcV-Rfov"
      },
      "source": [
        "!pip install \n",
        "import PIL.Image\n",
        "\n",
        "def preprocess(image):\n",
        "  img = PIL.Image.open(image)\n",
        "  img = PIL.Image.convert('L')\n",
        "  img = PIL.Image.resize((685, 1000)) #width, height\n",
        "  img = np.float32(img)\n",
        "  img /= 255.0\n",
        "  return img\n",
        "\n",
        "def put_on_screen(image, size):\n",
        "  img = image*255.0\n",
        "  img = np.clip(image, 0.0, 255.0)\n",
        "  img = img.astype(np.uint8)\n",
        "  img = PIL.Image.fromarray(img)\n",
        "  display (img)"
      ],
      "execution_count": 23,
      "outputs": []
    },
    {
      "cell_type": "code",
      "metadata": {
        "id": "DD5tFj3dSj3s"
      },
      "source": [
        "import cv2\n",
        "\n",
        "def process_image(path):\n",
        "    img = cv2.imread(path)\n",
        "    img = np.asarray(img, dtype=\"float32\")\n",
        "    img = cv2.resize(img, (685, 1000))\n",
        "    img = cv2.cvtColor(img, cv2.COLOR_BGR2GRAY)\n",
        "    img = img/255.0\n",
        "    img = np.reshape(img, (1000, 685, 1))\n",
        "    \n",
        "    return img"
      ],
      "execution_count": null,
      "outputs": []
    },
    {
      "cell_type": "markdown",
      "metadata": {
        "id": "WoAqX94NSS-v"
      },
      "source": [
        "##loading data"
      ]
    },
    {
      "cell_type": "code",
      "metadata": {
        "id": "E9fG93h9baLT"
      },
      "source": [
        "path = '/content/drive/My Drive/Colab Notebooks/denoise/'"
      ],
      "execution_count": 4,
      "outputs": []
    },
    {
      "cell_type": "code",
      "metadata": {
        "id": "Ru5Kt-4scWep"
      },
      "source": [
        "dirty_names = os.listdir(path + 'in')\n",
        "clean_names = os.listdir(path + 'out')"
      ],
      "execution_count": 5,
      "outputs": []
    },
    {
      "cell_type": "code",
      "metadata": {
        "id": "_FjZ3ytqSU0e",
        "outputId": "3db73d23-8307-43cd-c947-61f9a9a48ef2",
        "colab": {
          "base_uri": "https://localhost:8080/",
          "height": 105
        }
      },
      "source": [
        "from tqdm import tqdm\n",
        "import numpy as np\n",
        "\n",
        "dirty = []\n",
        "clean = []\n",
        "\n",
        "for f in tqdm(dirty_names):\n",
        "    t = load_img(path + '/in/' + f, grayscale = True, target_size = (1000, 688))\n",
        "    t = img_to_array(t).astype('float32')/255.0\n",
        "    dirty.append(t)\n",
        "\n",
        "for f in tqdm(clean_names):\n",
        "    t = load_img(path + '/out/' + f, grayscale = True, target_size = (1000, 688))\n",
        "    t = img_to_array(t).astype('float32')/255.0\n",
        "    clean.append(t)\n",
        "\n",
        "dirty = np.array(dirty)\n",
        "clean = np.array(clean)\n",
        "\n",
        "output.eval_js('new Audio(\"https://ssl.gstatic.com/dictionary/static/sounds/20180430/complete--_us_1.mp3\").play()')"
      ],
      "execution_count": 6,
      "outputs": [
        {
          "output_type": "stream",
          "text": [
            "  0%|          | 0/315 [00:00<?, ?it/s]/usr/local/lib/python3.6/dist-packages/keras_preprocessing/image/utils.py:107: UserWarning: grayscale is deprecated. Please use color_mode = \"grayscale\"\n",
            "  warnings.warn('grayscale is deprecated. Please use '\n",
            "100%|██████████| 315/315 [00:20<00:00, 15.43it/s]\n",
            "100%|██████████| 315/315 [00:37<00:00,  8.44it/s]\n"
          ],
          "name": "stderr"
        }
      ]
    },
    {
      "cell_type": "code",
      "metadata": {
        "id": "f-_XUGnPLcRX"
      },
      "source": [
        "#np.save(\"dirty\", dirty)\n",
        "#np.save(\"clean\", clean)"
      ],
      "execution_count": 7,
      "outputs": []
    },
    {
      "cell_type": "code",
      "metadata": {
        "id": "ylEfD4NZMnXB",
        "outputId": "f3b0f107-e28b-4dda-bc52-b6bb24da0e9c",
        "colab": {
          "base_uri": "https://localhost:8080/"
        }
      },
      "source": [
        "print(dirty.shape)\n",
        "print(clean.shape)"
      ],
      "execution_count": 7,
      "outputs": [
        {
          "output_type": "stream",
          "text": [
            "(315, 1000, 688, 1)\n",
            "(315, 1000, 688, 1)\n"
          ],
          "name": "stdout"
        }
      ]
    },
    {
      "cell_type": "code",
      "metadata": {
        "id": "eh9_K9zCW7RN"
      },
      "source": [
        "xtrain, xval, ytrain, yval = train_test_split(dirty, clean, test_size = 0.15)"
      ],
      "execution_count": 8,
      "outputs": []
    },
    {
      "cell_type": "code",
      "metadata": {
        "id": "5FHwBxzWM11Z",
        "outputId": "01d8945e-ab95-4c59-961e-1b81cbdee31d",
        "colab": {
          "base_uri": "https://localhost:8080/"
        }
      },
      "source": [
        "print(xtrain.shape)\n",
        "print(ytrain.shape)\n",
        "print(xval.shape)\n",
        "print(yval.shape)"
      ],
      "execution_count": 9,
      "outputs": [
        {
          "output_type": "stream",
          "text": [
            "(267, 1000, 688, 1)\n",
            "(267, 1000, 688, 1)\n",
            "(48, 1000, 688, 1)\n",
            "(48, 1000, 688, 1)\n"
          ],
          "name": "stdout"
        }
      ]
    },
    {
      "cell_type": "code",
      "metadata": {
        "id": "xqV3AjyaObyq"
      },
      "source": [
        "for i in range(267):\n",
        "  if xval.shape != yval.shape:\n",
        "    print(i)\n",
        "    break;"
      ],
      "execution_count": 10,
      "outputs": []
    },
    {
      "cell_type": "markdown",
      "metadata": {
        "id": "zQjSO0G0XUzi"
      },
      "source": [
        "##modelling"
      ]
    },
    {
      "cell_type": "code",
      "metadata": {
        "id": "C1ltrITVXWTz"
      },
      "source": [
        "def model():\n",
        "    input_layer = Input(shape = (1000, 688, 1))\n",
        "\n",
        "    # encoding\n",
        "    x = Conv2D(64, (3, 3), activation='relu', padding='same')(input_layer)\n",
        "    x = Conv2D(128, (3, 3), activation='relu', padding='same')(x)\n",
        "    x = BatchNormalization()(x)\n",
        "\n",
        "    x = MaxPooling2D((2, 2), padding='same')(x)\n",
        "    \n",
        "    x = Dropout(0.5)(x)\n",
        "    #add maxpooling\n",
        "\n",
        "    # decoding\n",
        "    x = Conv2D(128, (3, 3), activation='relu', padding='same')(x)\n",
        "    x = Conv2D(64, (3, 3), activation='relu', padding='same')(x)\n",
        "    x = BatchNormalization()(x)\n",
        "\n",
        "    x = UpSampling2D((2, 2))(x)\n",
        "\n",
        "    output_layer = Conv2D(1, (3, 3), activation = 'sigmoid', padding = 'same')(x)\n",
        "    model = Model(inputs = [input_layer], outputs = [output_layer])\n",
        "    model.compile(optimizer = 'adam' , loss = 'mean_squared_error', metrics = ['mae'])\n",
        "\n",
        "    return model\n",
        "\n",
        "\n",
        "model = model()\n",
        "#model.summary()"
      ],
      "execution_count": 10,
      "outputs": []
    },
    {
      "cell_type": "code",
      "metadata": {
        "id": "1QPp7nvbTvro",
        "outputId": "d2ae3324-da0b-461e-fbed-f1992603ee1b",
        "colab": {
          "base_uri": "https://localhost:8080/"
        }
      },
      "source": [
        "model.summary()"
      ],
      "execution_count": 11,
      "outputs": [
        {
          "output_type": "stream",
          "text": [
            "Model: \"functional_1\"\n",
            "_________________________________________________________________\n",
            "Layer (type)                 Output Shape              Param #   \n",
            "=================================================================\n",
            "input_1 (InputLayer)         [(None, 1000, 688, 1)]    0         \n",
            "_________________________________________________________________\n",
            "conv2d (Conv2D)              (None, 1000, 688, 64)     640       \n",
            "_________________________________________________________________\n",
            "conv2d_1 (Conv2D)            (None, 1000, 688, 128)    73856     \n",
            "_________________________________________________________________\n",
            "batch_normalization (BatchNo (None, 1000, 688, 128)    512       \n",
            "_________________________________________________________________\n",
            "max_pooling2d (MaxPooling2D) (None, 500, 344, 128)     0         \n",
            "_________________________________________________________________\n",
            "dropout (Dropout)            (None, 500, 344, 128)     0         \n",
            "_________________________________________________________________\n",
            "conv2d_2 (Conv2D)            (None, 500, 344, 128)     147584    \n",
            "_________________________________________________________________\n",
            "conv2d_3 (Conv2D)            (None, 500, 344, 64)      73792     \n",
            "_________________________________________________________________\n",
            "batch_normalization_1 (Batch (None, 500, 344, 64)      256       \n",
            "_________________________________________________________________\n",
            "up_sampling2d (UpSampling2D) (None, 1000, 688, 64)     0         \n",
            "_________________________________________________________________\n",
            "conv2d_4 (Conv2D)            (None, 1000, 688, 1)      577       \n",
            "=================================================================\n",
            "Total params: 297,217\n",
            "Trainable params: 296,833\n",
            "Non-trainable params: 384\n",
            "_________________________________________________________________\n"
          ],
          "name": "stdout"
        }
      ]
    },
    {
      "cell_type": "code",
      "metadata": {
        "id": "RutjHJDeXou2",
        "outputId": "7d6ac3ce-fa18-45ad-88cf-ace5cb29426e",
        "colab": {
          "base_uri": "https://localhost:8080/"
        }
      },
      "source": [
        "callback = EarlyStopping(monitor = 'loss', patience = 15)\n",
        "history = model.fit(xtrain, ytrain, validation_data = (xval, yval), epochs = 200, batch_size = 8, verbose = 1, callbacks = [callback])"
      ],
      "execution_count": 13,
      "outputs": [
        {
          "output_type": "stream",
          "text": [
            "Epoch 1/200\n",
            " 2/34 [>.............................] - ETA: 11s - loss: 0.2101 - mae: 0.3780WARNING:tensorflow:Callbacks method `on_train_batch_end` is slow compared to the batch time (batch time: 0.2452s vs `on_train_batch_end` time: 0.5005s). Check your callbacks.\n",
            "34/34 [==============================] - ETA: 0s - loss: 0.0896 - mae: 0.1889WARNING:tensorflow:Callbacks method `on_test_batch_end` is slow compared to the batch time (batch time: 0.0208s vs `on_test_batch_end` time: 0.1967s). Check your callbacks.\n",
            "34/34 [==============================] - 27s 800ms/step - loss: 0.0896 - mae: 0.1889 - val_loss: 0.3223 - val_mae: 0.5623\n",
            "Epoch 2/200\n",
            "34/34 [==============================] - 26s 751ms/step - loss: 0.0499 - mae: 0.1199 - val_loss: 0.0289 - val_mae: 0.0787\n",
            "Epoch 3/200\n",
            "34/34 [==============================] - 26s 750ms/step - loss: 0.0339 - mae: 0.0929 - val_loss: 0.0288 - val_mae: 0.0602\n",
            "Epoch 4/200\n",
            "34/34 [==============================] - 26s 751ms/step - loss: 0.0310 - mae: 0.0744 - val_loss: 0.0278 - val_mae: 0.0506\n",
            "Epoch 5/200\n",
            "34/34 [==============================] - 25s 749ms/step - loss: 0.0296 - mae: 0.0676 - val_loss: 0.0271 - val_mae: 0.0481\n",
            "Epoch 6/200\n",
            "34/34 [==============================] - 25s 750ms/step - loss: 0.0287 - mae: 0.0692 - val_loss: 0.0271 - val_mae: 0.0475\n",
            "Epoch 7/200\n",
            "34/34 [==============================] - 25s 750ms/step - loss: 0.0263 - mae: 0.0802 - val_loss: 0.0274 - val_mae: 0.0409\n",
            "Epoch 8/200\n",
            "34/34 [==============================] - 26s 750ms/step - loss: 0.0251 - mae: 0.0633 - val_loss: 0.0273 - val_mae: 0.0408\n",
            "Epoch 9/200\n",
            "34/34 [==============================] - 25s 749ms/step - loss: 0.0248 - mae: 0.0605 - val_loss: 0.0272 - val_mae: 0.0420\n",
            "Epoch 10/200\n",
            "34/34 [==============================] - 25s 749ms/step - loss: 0.0248 - mae: 0.0589 - val_loss: 0.0270 - val_mae: 0.0442\n",
            "Epoch 11/200\n",
            "34/34 [==============================] - 25s 749ms/step - loss: 0.0249 - mae: 0.0594 - val_loss: 0.0269 - val_mae: 0.0468\n",
            "Epoch 12/200\n",
            "34/34 [==============================] - 25s 750ms/step - loss: 0.0247 - mae: 0.0585 - val_loss: 0.0267 - val_mae: 0.0487\n",
            "Epoch 13/200\n",
            "34/34 [==============================] - 25s 750ms/step - loss: 0.0247 - mae: 0.0590 - val_loss: 0.0266 - val_mae: 0.0478\n",
            "Epoch 14/200\n",
            "34/34 [==============================] - 26s 750ms/step - loss: 0.0246 - mae: 0.0563 - val_loss: 0.0262 - val_mae: 0.0570\n",
            "Epoch 15/200\n",
            "34/34 [==============================] - 25s 750ms/step - loss: 0.0247 - mae: 0.0587 - val_loss: 0.0259 - val_mae: 0.0585\n",
            "Epoch 16/200\n",
            "34/34 [==============================] - 26s 752ms/step - loss: 0.0246 - mae: 0.0573 - val_loss: 0.0257 - val_mae: 0.0569\n",
            "Epoch 17/200\n",
            "34/34 [==============================] - 26s 750ms/step - loss: 0.0246 - mae: 0.0582 - val_loss: 0.0257 - val_mae: 0.0678\n",
            "Epoch 18/200\n",
            "34/34 [==============================] - 25s 750ms/step - loss: 0.0245 - mae: 0.0580 - val_loss: 0.0255 - val_mae: 0.0578\n",
            "Epoch 19/200\n",
            "34/34 [==============================] - 26s 752ms/step - loss: 0.0245 - mae: 0.0578 - val_loss: 0.0255 - val_mae: 0.0758\n",
            "Epoch 20/200\n",
            "34/34 [==============================] - 26s 753ms/step - loss: 0.0245 - mae: 0.0576 - val_loss: 0.0255 - val_mae: 0.0593\n",
            "Epoch 21/200\n",
            "34/34 [==============================] - 25s 749ms/step - loss: 0.0246 - mae: 0.0571 - val_loss: 0.0250 - val_mae: 0.0605\n",
            "Epoch 22/200\n",
            "34/34 [==============================] - 26s 752ms/step - loss: 0.0246 - mae: 0.0576 - val_loss: 0.0243 - val_mae: 0.0614\n",
            "Epoch 23/200\n",
            "34/34 [==============================] - 26s 751ms/step - loss: 0.0243 - mae: 0.0584 - val_loss: 0.0245 - val_mae: 0.0626\n",
            "Epoch 24/200\n",
            "34/34 [==============================] - 26s 752ms/step - loss: 0.0246 - mae: 0.0559 - val_loss: 0.0244 - val_mae: 0.0512\n",
            "Epoch 25/200\n",
            "34/34 [==============================] - 25s 749ms/step - loss: 0.0243 - mae: 0.0583 - val_loss: 0.0241 - val_mae: 0.0537\n",
            "Epoch 26/200\n",
            "34/34 [==============================] - 26s 751ms/step - loss: 0.0242 - mae: 0.0559 - val_loss: 0.0239 - val_mae: 0.0552\n",
            "Epoch 27/200\n",
            "34/34 [==============================] - 26s 751ms/step - loss: 0.0246 - mae: 0.0575 - val_loss: 0.0241 - val_mae: 0.0635\n",
            "Epoch 28/200\n",
            "34/34 [==============================] - 25s 749ms/step - loss: 0.0244 - mae: 0.0564 - val_loss: 0.0288 - val_mae: 0.1172\n",
            "Epoch 29/200\n",
            "34/34 [==============================] - 26s 751ms/step - loss: 0.0246 - mae: 0.0565 - val_loss: 0.0248 - val_mae: 0.0802\n",
            "Epoch 30/200\n",
            "34/34 [==============================] - 26s 752ms/step - loss: 0.0244 - mae: 0.0574 - val_loss: 0.0244 - val_mae: 0.0672\n",
            "Epoch 31/200\n",
            "34/34 [==============================] - 26s 751ms/step - loss: 0.0243 - mae: 0.0580 - val_loss: 0.0241 - val_mae: 0.0599\n",
            "Epoch 32/200\n",
            "34/34 [==============================] - 26s 751ms/step - loss: 0.0244 - mae: 0.0563 - val_loss: 0.0240 - val_mae: 0.0617\n",
            "Epoch 33/200\n",
            "34/34 [==============================] - 26s 751ms/step - loss: 0.0246 - mae: 0.0573 - val_loss: 0.0248 - val_mae: 0.0462\n",
            "Epoch 34/200\n",
            "34/34 [==============================] - 26s 751ms/step - loss: 0.0244 - mae: 0.0572 - val_loss: 0.0295 - val_mae: 0.1221\n",
            "Epoch 35/200\n",
            "34/34 [==============================] - 26s 750ms/step - loss: 0.0243 - mae: 0.0559 - val_loss: 0.0238 - val_mae: 0.0581\n",
            "Epoch 36/200\n",
            "34/34 [==============================] - 26s 750ms/step - loss: 0.0242 - mae: 0.0575 - val_loss: 0.0273 - val_mae: 0.1072\n",
            "Epoch 37/200\n",
            "34/34 [==============================] - 26s 750ms/step - loss: 0.0243 - mae: 0.0551 - val_loss: 0.0239 - val_mae: 0.0579\n",
            "Epoch 38/200\n",
            "34/34 [==============================] - 25s 750ms/step - loss: 0.0244 - mae: 0.0562 - val_loss: 0.0238 - val_mae: 0.0547\n",
            "Epoch 39/200\n",
            "34/34 [==============================] - 26s 752ms/step - loss: 0.0244 - mae: 0.0564 - val_loss: 0.0246 - val_mae: 0.0728\n",
            "Epoch 40/200\n",
            "34/34 [==============================] - 26s 750ms/step - loss: 0.0245 - mae: 0.0586 - val_loss: 0.0243 - val_mae: 0.0459\n",
            "Epoch 41/200\n",
            "34/34 [==============================] - 26s 751ms/step - loss: 0.0245 - mae: 0.0572 - val_loss: 0.0246 - val_mae: 0.0472\n",
            "Epoch 42/200\n",
            "34/34 [==============================] - 26s 751ms/step - loss: 0.0241 - mae: 0.0574 - val_loss: 0.0239 - val_mae: 0.0536\n",
            "Epoch 43/200\n",
            "34/34 [==============================] - 26s 751ms/step - loss: 0.0242 - mae: 0.0571 - val_loss: 0.0248 - val_mae: 0.0690\n",
            "Epoch 44/200\n",
            "34/34 [==============================] - 26s 751ms/step - loss: 0.0243 - mae: 0.0546 - val_loss: 0.0237 - val_mae: 0.0550\n",
            "Epoch 45/200\n",
            "34/34 [==============================] - 26s 750ms/step - loss: 0.0242 - mae: 0.0560 - val_loss: 0.0248 - val_mae: 0.0661\n",
            "Epoch 46/200\n",
            "34/34 [==============================] - 26s 751ms/step - loss: 0.0247 - mae: 0.0565 - val_loss: 0.0250 - val_mae: 0.0489\n",
            "Epoch 47/200\n",
            "34/34 [==============================] - 26s 750ms/step - loss: 0.0244 - mae: 0.0582 - val_loss: 0.0240 - val_mae: 0.0505\n",
            "Epoch 48/200\n",
            "34/34 [==============================] - 25s 750ms/step - loss: 0.0241 - mae: 0.0566 - val_loss: 0.0247 - val_mae: 0.0738\n",
            "Epoch 49/200\n",
            "34/34 [==============================] - 25s 750ms/step - loss: 0.0242 - mae: 0.0561 - val_loss: 0.0237 - val_mae: 0.0549\n",
            "Epoch 50/200\n",
            "34/34 [==============================] - 25s 749ms/step - loss: 0.0242 - mae: 0.0568 - val_loss: 0.0238 - val_mae: 0.0521\n",
            "Epoch 51/200\n",
            "34/34 [==============================] - 25s 748ms/step - loss: 0.0243 - mae: 0.0546 - val_loss: 0.0242 - val_mae: 0.0523\n",
            "Epoch 52/200\n",
            "34/34 [==============================] - 25s 749ms/step - loss: 0.0241 - mae: 0.0564 - val_loss: 0.0237 - val_mae: 0.0571\n",
            "Epoch 53/200\n",
            "34/34 [==============================] - 26s 752ms/step - loss: 0.0243 - mae: 0.0564 - val_loss: 0.0251 - val_mae: 0.0847\n",
            "Epoch 54/200\n",
            "34/34 [==============================] - 25s 749ms/step - loss: 0.0243 - mae: 0.0563 - val_loss: 0.0239 - val_mae: 0.0649\n",
            "Epoch 55/200\n",
            "34/34 [==============================] - 26s 750ms/step - loss: 0.0241 - mae: 0.0558 - val_loss: 0.0236 - val_mae: 0.0528\n",
            "Epoch 56/200\n",
            "34/34 [==============================] - 26s 751ms/step - loss: 0.0241 - mae: 0.0563 - val_loss: 0.0247 - val_mae: 0.0498\n",
            "Epoch 57/200\n",
            "34/34 [==============================] - 26s 752ms/step - loss: 0.0241 - mae: 0.0561 - val_loss: 0.0291 - val_mae: 0.1205\n",
            "Epoch 58/200\n",
            "34/34 [==============================] - 26s 752ms/step - loss: 0.0241 - mae: 0.0560 - val_loss: 0.0238 - val_mae: 0.0551\n",
            "Epoch 59/200\n",
            "34/34 [==============================] - 25s 750ms/step - loss: 0.0240 - mae: 0.0557 - val_loss: 0.0242 - val_mae: 0.0723\n",
            "Epoch 60/200\n",
            "34/34 [==============================] - 26s 751ms/step - loss: 0.0241 - mae: 0.0564 - val_loss: 0.0256 - val_mae: 0.0894\n",
            "Epoch 61/200\n",
            "34/34 [==============================] - 26s 750ms/step - loss: 0.0242 - mae: 0.0540 - val_loss: 0.0260 - val_mae: 0.0516\n",
            "Epoch 62/200\n",
            "34/34 [==============================] - 26s 750ms/step - loss: 0.0242 - mae: 0.0565 - val_loss: 0.0241 - val_mae: 0.0615\n",
            "Epoch 63/200\n",
            "34/34 [==============================] - 25s 749ms/step - loss: 0.0240 - mae: 0.0565 - val_loss: 0.0237 - val_mae: 0.0516\n",
            "Epoch 64/200\n",
            "34/34 [==============================] - 26s 751ms/step - loss: 0.0241 - mae: 0.0566 - val_loss: 0.0247 - val_mae: 0.0826\n",
            "Epoch 65/200\n",
            "34/34 [==============================] - 26s 750ms/step - loss: 0.0244 - mae: 0.0573 - val_loss: 0.0270 - val_mae: 0.0885\n",
            "Epoch 66/200\n",
            "34/34 [==============================] - 25s 750ms/step - loss: 0.0241 - mae: 0.0560 - val_loss: 0.0243 - val_mae: 0.0762\n",
            "Epoch 67/200\n",
            "34/34 [==============================] - 26s 750ms/step - loss: 0.0241 - mae: 0.0557 - val_loss: 0.0239 - val_mae: 0.0437\n",
            "Epoch 68/200\n",
            "34/34 [==============================] - 25s 750ms/step - loss: 0.0240 - mae: 0.0564 - val_loss: 0.0249 - val_mae: 0.0352\n",
            "Epoch 69/200\n",
            "34/34 [==============================] - 26s 751ms/step - loss: 0.0239 - mae: 0.0549 - val_loss: 0.0238 - val_mae: 0.0568\n",
            "Epoch 70/200\n",
            "34/34 [==============================] - 26s 750ms/step - loss: 0.0241 - mae: 0.0552 - val_loss: 0.0239 - val_mae: 0.0620\n",
            "Epoch 71/200\n",
            "34/34 [==============================] - 26s 751ms/step - loss: 0.0243 - mae: 0.0563 - val_loss: 0.0238 - val_mae: 0.0591\n",
            "Epoch 72/200\n",
            "34/34 [==============================] - 25s 750ms/step - loss: 0.0242 - mae: 0.0563 - val_loss: 0.0247 - val_mae: 0.0510\n",
            "Epoch 73/200\n",
            "34/34 [==============================] - 26s 751ms/step - loss: 0.0242 - mae: 0.0568 - val_loss: 0.0242 - val_mae: 0.0731\n",
            "Epoch 74/200\n",
            "34/34 [==============================] - 26s 751ms/step - loss: 0.0241 - mae: 0.0561 - val_loss: 0.0236 - val_mae: 0.0491\n",
            "Epoch 75/200\n",
            "34/34 [==============================] - 25s 750ms/step - loss: 0.0243 - mae: 0.0556 - val_loss: 0.0244 - val_mae: 0.0452\n",
            "Epoch 76/200\n",
            "34/34 [==============================] - 26s 750ms/step - loss: 0.0241 - mae: 0.0554 - val_loss: 0.0246 - val_mae: 0.0714\n",
            "Epoch 77/200\n",
            "34/34 [==============================] - 26s 751ms/step - loss: 0.0242 - mae: 0.0564 - val_loss: 0.0239 - val_mae: 0.0460\n",
            "Epoch 78/200\n",
            "34/34 [==============================] - 26s 751ms/step - loss: 0.0242 - mae: 0.0554 - val_loss: 0.0243 - val_mae: 0.0679\n",
            "Epoch 79/200\n",
            "34/34 [==============================] - 25s 750ms/step - loss: 0.0238 - mae: 0.0557 - val_loss: 0.0237 - val_mae: 0.0639\n",
            "Epoch 80/200\n",
            "34/34 [==============================] - 25s 749ms/step - loss: 0.0241 - mae: 0.0552 - val_loss: 0.0236 - val_mae: 0.0531\n",
            "Epoch 81/200\n",
            "34/34 [==============================] - 26s 750ms/step - loss: 0.0241 - mae: 0.0553 - val_loss: 0.0236 - val_mae: 0.0458\n",
            "Epoch 82/200\n",
            "34/34 [==============================] - 25s 750ms/step - loss: 0.0241 - mae: 0.0571 - val_loss: 0.0242 - val_mae: 0.0569\n",
            "Epoch 83/200\n",
            "34/34 [==============================] - 26s 751ms/step - loss: 0.0242 - mae: 0.0541 - val_loss: 0.0243 - val_mae: 0.0407\n",
            "Epoch 84/200\n",
            "34/34 [==============================] - 26s 751ms/step - loss: 0.0238 - mae: 0.0546 - val_loss: 0.0241 - val_mae: 0.0624\n",
            "Epoch 85/200\n",
            "34/34 [==============================] - 25s 749ms/step - loss: 0.0239 - mae: 0.0554 - val_loss: 0.0240 - val_mae: 0.0494\n",
            "Epoch 86/200\n",
            "34/34 [==============================] - 26s 751ms/step - loss: 0.0238 - mae: 0.0541 - val_loss: 0.0242 - val_mae: 0.0440\n",
            "Epoch 87/200\n",
            "34/34 [==============================] - 26s 751ms/step - loss: 0.0242 - mae: 0.0554 - val_loss: 0.0239 - val_mae: 0.0404\n",
            "Epoch 88/200\n",
            "34/34 [==============================] - 26s 750ms/step - loss: 0.0240 - mae: 0.0564 - val_loss: 0.0244 - val_mae: 0.0443\n",
            "Epoch 89/200\n",
            "34/34 [==============================] - 26s 751ms/step - loss: 0.0240 - mae: 0.0552 - val_loss: 0.0245 - val_mae: 0.0383\n",
            "Epoch 90/200\n",
            "34/34 [==============================] - 26s 750ms/step - loss: 0.0240 - mae: 0.0552 - val_loss: 0.0242 - val_mae: 0.0441\n",
            "Epoch 91/200\n",
            "34/34 [==============================] - 26s 750ms/step - loss: 0.0238 - mae: 0.0555 - val_loss: 0.0238 - val_mae: 0.0482\n",
            "Epoch 92/200\n",
            "34/34 [==============================] - 26s 751ms/step - loss: 0.0240 - mae: 0.0541 - val_loss: 0.0236 - val_mae: 0.0585\n",
            "Epoch 93/200\n",
            "34/34 [==============================] - 26s 752ms/step - loss: 0.0242 - mae: 0.0544 - val_loss: 0.0243 - val_mae: 0.0644\n",
            "Epoch 94/200\n",
            "34/34 [==============================] - 25s 749ms/step - loss: 0.0243 - mae: 0.0578 - val_loss: 0.0239 - val_mae: 0.0494\n",
            "Epoch 95/200\n",
            "34/34 [==============================] - 25s 749ms/step - loss: 0.0240 - mae: 0.0566 - val_loss: 0.0244 - val_mae: 0.0712\n",
            "Epoch 96/200\n",
            "34/34 [==============================] - 25s 749ms/step - loss: 0.0241 - mae: 0.0547 - val_loss: 0.0240 - val_mae: 0.0418\n",
            "Epoch 97/200\n",
            "34/34 [==============================] - 25s 749ms/step - loss: 0.0239 - mae: 0.0560 - val_loss: 0.0246 - val_mae: 0.0464\n",
            "Epoch 98/200\n",
            "34/34 [==============================] - 26s 752ms/step - loss: 0.0239 - mae: 0.0555 - val_loss: 0.0258 - val_mae: 0.0570\n",
            "Epoch 99/200\n",
            "34/34 [==============================] - 25s 750ms/step - loss: 0.0239 - mae: 0.0534 - val_loss: 0.0237 - val_mae: 0.0467\n"
          ],
          "name": "stdout"
        }
      ]
    },
    {
      "cell_type": "code",
      "metadata": {
        "id": "QHRwjgwyYJnV",
        "outputId": "7dd82ac0-d2f6-4872-f9e6-a6586036b370",
        "colab": {
          "base_uri": "https://localhost:8080/",
          "height": 390
        }
      },
      "source": [
        "import matplotlib.pyplot as plt\n",
        "\n",
        "epoch_loss = history.history['loss']\n",
        "epoch_val_loss = history.history['val_loss']\n",
        "epoch_mae = history.history['mae']\n",
        "epoch_val_mae = history.history['val_mae']\n",
        "\n",
        "plt.figure(figsize = (20,6))\n",
        "plt.subplot(1,2,1)\n",
        "plt.plot(range(0,len(epoch_loss)), epoch_loss, 'b-', linewidth=2, label='Train Loss')\n",
        "plt.plot(range(0,len(epoch_val_loss)), epoch_val_loss, 'r-', linewidth=2, label='Val Loss')\n",
        "plt.title('Evolution of loss on train & validation datasets over epochs')\n",
        "plt.legend(loc='best')\n",
        "\n",
        "plt.subplot(1,2,2)\n",
        "plt.plot(range(0,len(epoch_mae)), epoch_mae, 'b-', linewidth=2, label='Train MAE')\n",
        "plt.plot(range(0,len(epoch_val_mae)), epoch_val_mae, 'r-', linewidth=2,label='Val MAE')\n",
        "plt.title('Evolution of MAE on train & validation datasets over epochs')\n",
        "plt.legend(loc='best')\n",
        "\n",
        "plt.show()"
      ],
      "execution_count": 16,
      "outputs": [
        {
          "output_type": "display_data",
          "data": {
            "image/png": "[encoded data removed]",
            "text/plain": [
              "<Figure size 1440x432 with 2 Axes>"
            ]
          },
          "metadata": {
            "tags": [],
            "needs_background": "light"
          }
        }
      ]
    },
    {
      "cell_type": "code",
      "metadata": {
        "id": "aQu2Ni6uadMo"
      },
      "source": [
        "model.save(\"check1.h5\")"
      ],
      "execution_count": 17,
      "outputs": []
    },
    {
      "cell_type": "markdown",
      "metadata": {
        "id": "K-7OJxgFgcqo"
      },
      "source": [
        "##test with 2 images"
      ]
    },
    {
      "cell_type": "code",
      "metadata": {
        "id": "w9j-4L4DgfBS",
        "outputId": "0aec5658-97e7-409f-b699-29c091594782",
        "colab": {
          "base_uri": "https://localhost:8080/"
        }
      },
      "source": [
        "test_names = os.listdir(\"/content/\")\n",
        "test = []\n",
        "\n",
        "for f in tqdm(test_names):\n",
        "    if(f.endswith('.jpg')):\n",
        "        t = load_img(\"/content/\" + f, grayscale = True, target_size = (1000, 688))\n",
        "        t = img_to_array(t).astype('float32')/255.0\n",
        "        test.append(t)\n",
        "\n",
        "test = np.array(test)\n",
        "test.shape"
      ],
      "execution_count": 21,
      "outputs": [
        {
          "output_type": "stream",
          "text": [
            "  0%|          | 0/5 [00:00<?, ?it/s]/usr/local/lib/python3.6/dist-packages/keras_preprocessing/image/utils.py:107: UserWarning: grayscale is deprecated. Please use color_mode = \"grayscale\"\n",
            "  warnings.warn('grayscale is deprecated. Please use '\n",
            "100%|██████████| 5/5 [00:00<00:00, 35.85it/s]\n"
          ],
          "name": "stderr"
        }
      ]
    },
    {
      "cell_type": "code",
      "metadata": {
        "id": "R5jtl9S8h3TZ"
      },
      "source": [
        "result = model.predict(test)"
      ],
      "execution_count": 24,
      "outputs": []
    },
    {
      "cell_type": "code",
      "metadata": {
        "id": "mnt_OBcoh-rM",
        "outputId": "b39642c3-7284-4f84-b48a-f35c5f303dfc",
        "colab": {
          "base_uri": "https://localhost:8080/"
        }
      },
      "source": [
        "result.shape"
      ],
      "execution_count": 25,
      "outputs": [
        {
          "output_type": "execute_result",
          "data": {
            "text/plain": [
              "(2, 1000, 688, 1)"
            ]
          },
          "metadata": {
            "tags": []
          },
          "execution_count": 25
        }
      ]
    },
    {
      "cell_type": "code",
      "metadata": {
        "id": "qX04Blb9kedb"
      },
      "source": [
        "def display_image_in_actual_size(im_data):\n",
        "\n",
        "    dpi = 80\n",
        "    height, width, depth = im_data.shape\n",
        "\n",
        "    # What size does the figure need to be in inches to fit the image?\n",
        "    figsize = width / float(dpi), height / float(dpi)\n",
        "\n",
        "    # Create a figure of the right size with one axes that takes up the full figure\n",
        "    fig = plt.figure(figsize=figsize)\n",
        "    ax = fig.add_axes([0, 0, 1, 1])\n",
        "\n",
        "    # Hide spines, ticks, etc.\n",
        "    ax.axis('off')\n",
        "\n",
        "    # Display the image.\n",
        "    ax.imshow(im_data[:,:,0], cmap='gray')\n",
        "\n",
        "    plt.show()\n",
        "\n",
        "display_image_in_actual_size(result[0])"
      ],
      "execution_count": null,
      "outputs": []
    },
    {
      "cell_type": "code",
      "metadata": {
        "id": "ayW5ev6uk1j5"
      },
      "source": [
        "display_image_in_actual_size(result[1])"
      ],
      "execution_count": null,
      "outputs": []
    },
    {
      "cell_type": "code",
      "metadata": {
        "id": "VOlCBqPqlA4d",
        "outputId": "9d80b597-5b97-449a-a788-8d23c5c30158",
        "colab": {
          "base_uri": "https://localhost:8080/"
        }
      },
      "source": [
        "imsave(\"res2.jpg\", result[0][:,:,0])"
      ],
      "execution_count": 40,
      "outputs": [
        {
          "output_type": "stream",
          "text": [
            "WARNING:root:Lossy conversion from float32 to uint8. Range [5971718.5, 16581375.0]. Convert image to uint8 prior to saving to suppress this warning.\n"
          ],
          "name": "stderr"
        }
      ]
    }
  ]
}